{
 "cells": [
  {
   "cell_type": "markdown",
   "metadata": {},
   "source": [
    "# Double Pendulum Problem\n",
    "\n",
    "#### The motivation of simulating a double pendulum is to simulate randomness. The motion of a double pendulum is unpredictable enough to use as random behavior. The motion of a single pendulum is really easy to predict because it’s just going to swing back and forth, but they are attached to each other, so their velocities and accelerations affect the other, which creates the erratic behavior"
   ]
  },
  {
   "cell_type": "markdown",
   "metadata": {},
   "source": [
    "The top of the double pendulum will be at position (0,0)\n",
    "\n",
    "The bottom of the first pendulum will be at point (x1, y1) and have length L1 with mass m1\n",
    "\n",
    "The bottom of the second pendulum will be at point (x2, y2) and have length L2 with mass m2\n",
    "\n",
    "Because the strings make an angle that is vertically downwards from the point of origin, the top of each pendulum. The top of the first pendulum is the very top while the top of the second pendulum is the location of the first pendulum's weight. This means that:\n",
    "\n",
    "$x_1 = L_1sin(\\theta_1),\\ y_1 =  L_1cos(\\theta_1)$\n",
    "\n",
    "where $\\theta_1$ is the angle of the first pendulum from the vertical downwards.\n",
    "\n",
    "and\n",
    "\n",
    "$x_2 = x_1 + L_2sin(\\theta_2), y_2 = y_1 + L_2cos(\\theta_2)$"
   ]
  },
  {
   "cell_type": "markdown",
   "metadata": {},
   "source": [
    "## Initialization\n",
    "Because x and y depend on θ, there is no need to include x and y in our equations, so the simple setup discussed above is initialized below.\n",
    "\n",
    "We can also set the lengths to 1 and the masses to 0.1 as well as set the gravitational acceleration g to 9.81.\n",
    "\n",
    "Additionally we can initialize the starting angles for the weights on the pendulum"
   ]
  },
  {
   "cell_type": "code",
   "execution_count": null,
   "metadata": {},
   "outputs": [],
   "source": [
    "L_1 = 1;\n",
    "L_2 = 1;\n",
    "\n",
    "theta_start_1 = pi/4;\n",
    "theta_start_2 = pi/2;\n",
    "\n",
    "x_1 = L_1 * sin(theta_1);\n",
    "y_1 = L_1 * cos(theta_1);\n",
    "\n",
    "g = 9.81;\n",
    "\n",
    "m_1 = 0.1;\n",
    "m_2 = 0.1;\n"
   ]
  },
  {
   "cell_type": "markdown",
   "metadata": {},
   "source": [
    "## Explicit rk4 Function\n",
    "Because we need to be constantly recalculating the angular velocity as well as the angle, we need a way to calculate the angular acceleration. There is an accepted equation to calculate the angular acceleration as such below:\n",
    "$$\\theta_1''= \\frac{-g(2m_1 + m_2)sin\\theta _1-m_2gsin(\\theta _1 - 2\\theta _2) - 2sin(\\theta _1 - \\theta _2)m_2(\\theta _2'^2L_2 + \\theta _1'^2 L_1 cos(\\theta _1 - \\theta _2))}{L_1(2m_1 + m_2 - m_2cos(2\\theta _1 - 2\\theta _2))} $$\n",
    "$$ \\theta _2'' = \\frac{2sin(\\theta _1 - \\theta _2)(\\theta _1'^2L_1(m_1 + m_2) + g(m_1 + m_2)cos\\theta_1 + \\theta _2'^2L_2m_2cos(\\theta _1 - \\theta _2))}{L_2(2m_1 + m_2 - m_2cos(2\\theta _1 - 2\\theta _2))}$$\n",
    "\n",
    "Which we use to calculate the expected values for part of the rk4 method. Overall the Runge Kutta method offers a way to estimate the angular acceleration of the pendulum when given the previous values. It's more accurate than the Euler method, and often the rk2 method is all that's necessary.\n",
    "\n",
    "Inside this function, we set the initial position using the initial angles given. Then we solve for the angular acceleration using the Runge Kutta method. Using the acceleration we solve for the angular velocity and then the angle. This method is repeated with the position being solved from the angle."
   ]
  },
  {
   "cell_type": "code",
   "execution_count": null,
   "metadata": {},
   "outputs": [],
   "source": [
    "function explicit_rk4(f::Function, ẏ::Vector, T_final::Real, N::Int)\n",
    "    \n",
    "    # initialization\n",
    "    ω′ = zeros(2, N + 1);\n",
    "    ω = zeros(2, N + 1);\n",
    "    θ = zeros(2, N + 1);\n",
    "    x = zeros(2, N + 1);\n",
    "    y = zeros(2, N + 1);\n",
    "\n",
    "    \n",
    "    # time range\n",
    "    t = range(0, T_final, N + 1)\n",
    "    Δt = t[2] - t[1]\n",
    "    \n",
    "    θ[:,1] = ẏ\n",
    "    y[:,1] = [L_1*cos(θ[1,1]);L_1*cos(θ[1,1]) + L_2*cos(θ[2,1])];\n",
    "    x[:,1] = [L_1*sin(θ[1,1]); L_1*sin(θ[1,1]) + L_2*sin(θ[2,1])];\n",
    "    \n",
    "    for k = 1:N\n",
    "        vals = [θ[1,k], θ[2,k], ω[1,k], ω[2,k]];\n",
    "        \n",
    "        k1 = f(vals);\n",
    "        k2 = f(vals .+ k1 .* Δt/2);\n",
    "        k3 = f(vals .+ k2 .* Δt/2);\n",
    "        k4 = f(vals .+ k3 .* Δt);\n",
    "\n",
    "        new_vals = vals .+ (k1 + 2*k2 + 2*k3 + k4) * Δt/6;\n",
    "        \n",
    "        θ[1,k+1] = new_vals[1];\n",
    "        θ[2,k+1] = new_vals[2];\n",
    "        ω[1,k+1] = new_vals[3];\n",
    "        ω[2,k+1] = new_vals[4];\n",
    "\n",
    "        \n",
    "        x[:, k + 1] = [L_1 * sin(θ[1,k+1]); (L_1 * sin(θ[1, k + 1]) + L_2 * sin(θ[2, k + 1]))];\n",
    "        y[:, k + 1] = [L_1 * cos(θ[1,k+1]); (L_1 * cos(θ[1, k + 1]) + L_2 * cos(θ[2, k + 1]))];\n",
    "        #        print(k , \": \" ,ω[:,k],\"\\n\");\n",
    "    end\n",
    "\n",
    "    return t,ω′, ω, θ, x, y\n",
    "end"
   ]
  },
  {
   "cell_type": "code",
   "execution_count": null,
   "metadata": {},
   "outputs": [],
   "source": [
    "theta_start_1;\n",
    "theta_start_2;\n",
    "function find_g(vals)\n",
    "    theta_1 = vals[1]\n",
    "    theta_2 = vals[2]\n",
    "    omega_1 = vals[3]\n",
    "    omega_2 = vals[4]\n",
    "    g1 = (-g * (2 * m_1 + m_2) * sin(theta_1) -m_2 * g * sin(theta_1 - 2 * theta_2) - 2 * sin(theta_1 - theta_2) * m_2 * (omega_2^2 * L_2 + omega_1^2 * L_1 * cos(theta_1-theta_2))) / (L_1 * (2 * m_1 + m_2 - m_2 * cos(2 * theta_1 - 2 * theta_2)));\n",
    "    g2 = 2 * sin(theta_1 - theta_2) * (omega_1^2 * L_1 * (m_1 + m_2) + g * (m_1 + m_2) * cos(theta_1) + omega_2^2 * L_2 * m_2 * cos(theta_1 - theta_2)) / (L_2 * (2 * m_1 + m_2 - m_2 * cos(2 * theta_1 - 2 * theta_2)));\n",
    "    return [omega_1, omega_2, g1, g2];\n",
    "end\n",
    "N = 1000\n",
    "\n",
    "t_vals,ω′_vals, ω_vals, θ_vals, x_vals, y_vals = explicit_rk2(    \n",
    "\n",
    "    find_g,\n",
    "\n",
    "    # value of ẏ\n",
    "    [theta_1; theta_2],\n",
    "\n",
    "    # value of T_final\n",
    "    100 * π,\n",
    "\n",
    "    # value of N\n",
    "    N,);\n"
   ]
  },
  {
   "cell_type": "markdown",
   "metadata": {},
   "source": [
    "### Height vs Time\n",
    "\n",
    "Below we can see that as time goes on, the y value for the second weight tends to settle around y = 2, which is the 2 lengths added together, meaning that the angle is getting closer and closer to 0, shown directly after."
   ]
  },
  {
   "cell_type": "code",
   "execution_count": null,
   "metadata": {},
   "outputs": [],
   "source": [
    "using PyPlot\n",
    "#y_vals = y_vals[:, 121];\n",
    "val = 0.012566370614359173;\n",
    "plot(t_vals, y_vals[2, :]);\n",
    "title(\"Weight 2 Y Value vs Time\");\n",
    "xlabel(\"Time (s)\");\n",
    "ylabel(\"y (m)\");\n",
    "plt.gca().invert_yaxis()\n",
    "\n",
    "\n"
   ]
  },
  {
   "cell_type": "markdown",
   "metadata": {},
   "source": [
    "We can also see that as time goes on the angle starts to go towards 0, which makes sense because obviously the system should be losing energy as time increases."
   ]
  },
  {
   "cell_type": "code",
   "execution_count": null,
   "metadata": {
    "scrolled": true
   },
   "outputs": [],
   "source": [
    "plot(t_vals, θ_vals[2,:]);\n",
    "title(\"Weight 2 Theta vs Time\");\n",
    "xlabel(\"Time (s)\");\n",
    "ylabel(\"y (m)\");"
   ]
  },
  {
   "cell_type": "markdown",
   "metadata": {},
   "source": [
    "### Double Pendulum in React JavaScript\n",
    "\n",
    "Additionally, the behavior of the double pendulum can be observed via http://www.wisinski.dev/double-pendulum-project where the starting position can be customized based on the order of clicks."
   ]
  },
  {
   "cell_type": "code",
   "execution_count": null,
   "metadata": {},
   "outputs": [],
   "source": []
  }
 ],
 "metadata": {
  "kernelspec": {
   "display_name": "Julia 1.8.5",
   "language": "julia",
   "name": "julia-1.8"
  },
  "language_info": {
   "file_extension": ".jl",
   "mimetype": "application/julia",
   "name": "julia",
   "version": "1.8.5"
  }
 },
 "nbformat": 4,
 "nbformat_minor": 2
}
